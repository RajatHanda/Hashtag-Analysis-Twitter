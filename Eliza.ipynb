{
 "cells": [
  {
   "cell_type": "markdown",
   "metadata": {},
   "source": [
    "#  Problem: To  build a program Eliza playing the role of a psychotherapist,\n",
    "# in which Eliza asks some set of questions and user answers as per the question.\n",
    "#======================================================================================\n",
    "#Requirements:\n",
    "#1.Use regular expression to identify the user's statement and associated response with it.\n",
    "#2.Concatenate user name with the Eliza response to provide a personalize experience.\n",
    "#3.Identify user context and try to embed it in the Eliza response.\n",
    "#4. Ensure validation check i.e. if the user's response is not in the list then reply back accordingly.\n",
    "#=====================================================================================\n",
    "'''\n",
    "======================================================================================"
   ]
  },
  {
   "cell_type": "markdown",
   "metadata": {},
   "source": [
    "# Usage Instructions:\n",
    "Chat with Eliza in English, using normal upper and lower-case letters and punctuation.\n",
    "Enter \"quit\" when done.\n",
    "#=====================================================================================\n",
    "Input-Ouput:\n",
    "=>[Eliza]:Hi, I'm a psychotherapist. What is your name?\n",
    "=>[User]:My name is Rajat.\n",
    "=>[Eliza]:Hi Rajat. How can I help you today?\n",
    "=>[User]:I want to rule the world.\n",
    "=>[Eliza]:Rajat, why do you want to rule the world?\n",
    "=>[User]:I don't know, I think I crave power.\n",
    "=>[Eliza]:Why don't you tell me more about your cravings.\n",
    "=>[User]:LET ME CHECK.\n",
    "=>[Eliza]:I didn't quite understand, can you say that another way\n",
    "=>[User]:quit\n",
    "=>[Eliza]:I hope you had wonderful experience. See you next time.\n",
    "\n",
    "Process finished with exit code 0\n",
    "\n",
    "========================================================================================"
   ]
  },
  {
   "cell_type": "markdown",
   "metadata": {},
   "source": [
    "# Algorithm:\n",
    "1.Take the user input and extract the name of user from response.\n",
    "2.For finding User's name look for word \"my\" and then extract the last word from the statement using Regular expression.\n",
    "2.Convert the statements to lowercase to make it easy to compare upper and lower case letters if any.\n",
    "3.Remove punctuations from the statement.\n",
    "4.If user's statement matches to one of the pattern in the defined list then reply back user with the associated value to that statement.\n",
    "5.If there is a special character in the associated response then replace that with the required tokens.\n",
    "6.If user's enter \"quit\", break the main and end the program."
   ]
  },
  {
   "cell_type": "code",
   "execution_count": 14,
   "metadata": {},
   "outputs": [],
   "source": [
    "import re \n",
    "import random"
   ]
  },
  {
   "cell_type": "code",
   "execution_count": 15,
   "metadata": {},
   "outputs": [],
   "source": [
    "\n",
    "Elizapats1 = [\n",
    "    [r\"my name (.*)\",\n",
    "     [\"Hi :1. How can I help you today?\"]],\n",
    "    [r\"i want (.*)\",\n",
    "     [\":1, why do you want %1?\"]],\n",
    "    [r\"(.*) crave (.*)\",\n",
    "     [\"Why don't you tell me more about your cravings.\"]],\n",
    "    [r\"(.*)quit\",\n",
    "    [\"I hope you had wonderful experience. See you next time.\"]],\n",
    "    [r\"(.*)\",\n",
    "    [\"I didn't quite understand, can you say that another way\"]]\n",
    "    \n",
    "]\n",
    "\n",
    "Elizapats = list((re.compile(x[0]),x[1]) for x in Elizapats1)"
   ]
  },
  {
   "cell_type": "code",
   "execution_count": 18,
   "metadata": {},
   "outputs": [
    {
     "name": "stdout",
     "output_type": "stream",
     "text": [
      "=>[Eliza]:Hi, I'm a psychotherapist. What is your name?\n",
      "=>[User]:My name is Rajat.\n",
      "=>[Eliza]:Hi Rajat. How can I help you today?\n",
      "=>[User]:I want to rule this world.\n",
      "=>[Eliza]:Rajat, why do you want to rule this world?\n",
      "=>[User]:I crave for power.\n",
      "=>[Eliza]:Why don't you tell me more about your cravings.\n",
      "=>[User]:Let me check.\n",
      "=>[Eliza]:I didn't quite understand, can you say that another way\n",
      "=>[User]:quit\n",
      "=>[Eliza]:I hope you had wonderful experience. See you next time.\n"
     ]
    }
   ],
   "source": [
    "def main():\n",
    "    print(\"=>[Eliza]:Hi, I'm a psychotherapist. What is your name?\")\n",
    "    nae=\" \"\n",
    "    while True:\n",
    "        statement = input(\"=>[User]:\")\n",
    "        nae=name_ext(statement)\n",
    "        if not nae:\n",
    "            nae=ba\n",
    "        resp=eliza_res1(statement)\n",
    "        pos=resp.find(\":\")\n",
    "        ba=\"\".join(nae)\n",
    "        if pos >-1:\n",
    "            resp = resp.replace(resp[pos:pos+2],ba)\n",
    "        print (\"=>[Eliza]:\" + resp)\n",
    " \n",
    "        if statement == \"quit\":\n",
    "            break\n",
    " \n",
    " \n",
    "if __name__ == \"__main__\":\n",
    "    main()"
   ]
  },
  {
   "cell_type": "code",
   "execution_count": 16,
   "metadata": {},
   "outputs": [],
   "source": [
    "def eliza_res1(statement):\n",
    "    for pattern,response in Elizapats:\n",
    "        #match = pattern.search(statement.lower().rstrip(\"!.\"))  #Converting to lowercase and removing punctuations.\n",
    "        match1=pattern.match(statement.lower().rstrip(\"!.\"))\n",
    "        if match1 is not None:\n",
    "            resp=random.choice(response)                        #Assigning the response w.r.t. Regular Expression.\n",
    "            pos = resp.find('%')\n",
    "            while pos > -1:                                     #If '-1' then there is no succesful finding of the character.\n",
    "                index_loc = int(resp[pos+1:pos+2])              #Adjusting the index in order to concatenate the statement entered by User.\n",
    "                resp = resp.replace(resp[pos:pos+2], match1.group(index_loc))    #Replacing the character by contect int the statement.\n",
    "                pos = resp.find('%')                            #For exiting while loop after we replace '%1'\n",
    "            return resp"
   ]
  },
  {
   "cell_type": "code",
   "execution_count": 17,
   "metadata": {},
   "outputs": [],
   "source": [
    "Elizapats1 = [\n",
    "    [r\"my name (.*)\",\n",
    "     [\"Hi :1. How can I help you today?\"]],\n",
    "    [r\"i want (.*)\",\n",
    "     [\":1, why do you want %1?\"]],\n",
    "    [r\"(.*) crave (.*)\",\n",
    "     [\"Why don't you tell me more about your cravings.\"]],\n",
    "    [r\"(.*)quit\",\n",
    "    [\"I hope you had wonderful experience. See you next time.\"]],\n",
    "    [r\"(.*)\",\n",
    "    [\"I didn't quite understand, can you say that another way\"]]\n",
    "    \n",
    "]\n",
    "def name_ext(statement):\n",
    "    key,values1=Elizapats1[0]\n",
    "    Key1= key.rstrip(\"!.*()\")\n",
    "    Key1=Key1[0:3]\n",
    "    statement=statement.rstrip(\"!.\")\n",
    "    Stat1=statement[0:3].lower()\n",
    "    if Key1 == Stat1:\n",
    "        na=re.findall(r\"\\w+$\", statement)\n",
    "        return na"
   ]
  },
  {
   "cell_type": "code",
   "execution_count": null,
   "metadata": {},
   "outputs": [],
   "source": []
  }
 ],
 "metadata": {
  "kernelspec": {
   "display_name": "Python 3",
   "language": "python",
   "name": "python3"
  },
  "language_info": {
   "codemirror_mode": {
    "name": "ipython",
    "version": 3
   },
   "file_extension": ".py",
   "mimetype": "text/x-python",
   "name": "python",
   "nbconvert_exporter": "python",
   "pygments_lexer": "ipython3",
   "version": "3.6.2"
  }
 },
 "nbformat": 4,
 "nbformat_minor": 2
}
